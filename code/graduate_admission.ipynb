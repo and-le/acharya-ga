{
 "cells": [
  {
   "cell_type": "code",
   "execution_count": 1,
   "metadata": {},
   "outputs": [],
   "source": [
    "\"\"\"\n",
    "Data source: \n",
    "Mohan S Acharya, Asfia Armaan, Aneeta S Antony : \n",
    "A Comparison of Regression Models for Prediction of Graduate Admissions, \n",
    "IEEE International Conference on Computational Intelligence in Data Science 2019\n",
    "\"\"\"\n",
    "import numpy as np\n",
    "import pandas as pd\n",
    "from sklearn.linear_model import LogisticRegression\n",
    "from sklearn.linear_model import LinearRegression\n",
    "from sklearn.metrics import mean_squared_error"
   ]
  },
  {
   "cell_type": "code",
   "execution_count": 2,
   "metadata": {},
   "outputs": [
    {
     "data": {
      "text/html": [
       "<div>\n",
       "<style scoped>\n",
       "    .dataframe tbody tr th:only-of-type {\n",
       "        vertical-align: middle;\n",
       "    }\n",
       "\n",
       "    .dataframe tbody tr th {\n",
       "        vertical-align: top;\n",
       "    }\n",
       "\n",
       "    .dataframe thead th {\n",
       "        text-align: right;\n",
       "    }\n",
       "</style>\n",
       "<table border=\"1\" class=\"dataframe\">\n",
       "  <thead>\n",
       "    <tr style=\"text-align: right;\">\n",
       "      <th></th>\n",
       "      <th>Serial No.</th>\n",
       "      <th>GRE Score</th>\n",
       "      <th>TOEFL Score</th>\n",
       "      <th>University Rating</th>\n",
       "      <th>SOP</th>\n",
       "      <th>LOR</th>\n",
       "      <th>CGPA</th>\n",
       "      <th>Research</th>\n",
       "      <th>Chance of Admit</th>\n",
       "    </tr>\n",
       "  </thead>\n",
       "  <tbody>\n",
       "    <tr>\n",
       "      <td>0</td>\n",
       "      <td>1</td>\n",
       "      <td>337</td>\n",
       "      <td>118</td>\n",
       "      <td>4</td>\n",
       "      <td>4.5</td>\n",
       "      <td>4.5</td>\n",
       "      <td>9.65</td>\n",
       "      <td>1</td>\n",
       "      <td>0.92</td>\n",
       "    </tr>\n",
       "    <tr>\n",
       "      <td>1</td>\n",
       "      <td>2</td>\n",
       "      <td>324</td>\n",
       "      <td>107</td>\n",
       "      <td>4</td>\n",
       "      <td>4.0</td>\n",
       "      <td>4.5</td>\n",
       "      <td>8.87</td>\n",
       "      <td>1</td>\n",
       "      <td>0.76</td>\n",
       "    </tr>\n",
       "    <tr>\n",
       "      <td>2</td>\n",
       "      <td>3</td>\n",
       "      <td>316</td>\n",
       "      <td>104</td>\n",
       "      <td>3</td>\n",
       "      <td>3.0</td>\n",
       "      <td>3.5</td>\n",
       "      <td>8.00</td>\n",
       "      <td>1</td>\n",
       "      <td>0.72</td>\n",
       "    </tr>\n",
       "    <tr>\n",
       "      <td>3</td>\n",
       "      <td>4</td>\n",
       "      <td>322</td>\n",
       "      <td>110</td>\n",
       "      <td>3</td>\n",
       "      <td>3.5</td>\n",
       "      <td>2.5</td>\n",
       "      <td>8.67</td>\n",
       "      <td>1</td>\n",
       "      <td>0.80</td>\n",
       "    </tr>\n",
       "    <tr>\n",
       "      <td>4</td>\n",
       "      <td>5</td>\n",
       "      <td>314</td>\n",
       "      <td>103</td>\n",
       "      <td>2</td>\n",
       "      <td>2.0</td>\n",
       "      <td>3.0</td>\n",
       "      <td>8.21</td>\n",
       "      <td>0</td>\n",
       "      <td>0.65</td>\n",
       "    </tr>\n",
       "    <tr>\n",
       "      <td>...</td>\n",
       "      <td>...</td>\n",
       "      <td>...</td>\n",
       "      <td>...</td>\n",
       "      <td>...</td>\n",
       "      <td>...</td>\n",
       "      <td>...</td>\n",
       "      <td>...</td>\n",
       "      <td>...</td>\n",
       "      <td>...</td>\n",
       "    </tr>\n",
       "    <tr>\n",
       "      <td>495</td>\n",
       "      <td>496</td>\n",
       "      <td>332</td>\n",
       "      <td>108</td>\n",
       "      <td>5</td>\n",
       "      <td>4.5</td>\n",
       "      <td>4.0</td>\n",
       "      <td>9.02</td>\n",
       "      <td>1</td>\n",
       "      <td>0.87</td>\n",
       "    </tr>\n",
       "    <tr>\n",
       "      <td>496</td>\n",
       "      <td>497</td>\n",
       "      <td>337</td>\n",
       "      <td>117</td>\n",
       "      <td>5</td>\n",
       "      <td>5.0</td>\n",
       "      <td>5.0</td>\n",
       "      <td>9.87</td>\n",
       "      <td>1</td>\n",
       "      <td>0.96</td>\n",
       "    </tr>\n",
       "    <tr>\n",
       "      <td>497</td>\n",
       "      <td>498</td>\n",
       "      <td>330</td>\n",
       "      <td>120</td>\n",
       "      <td>5</td>\n",
       "      <td>4.5</td>\n",
       "      <td>5.0</td>\n",
       "      <td>9.56</td>\n",
       "      <td>1</td>\n",
       "      <td>0.93</td>\n",
       "    </tr>\n",
       "    <tr>\n",
       "      <td>498</td>\n",
       "      <td>499</td>\n",
       "      <td>312</td>\n",
       "      <td>103</td>\n",
       "      <td>4</td>\n",
       "      <td>4.0</td>\n",
       "      <td>5.0</td>\n",
       "      <td>8.43</td>\n",
       "      <td>0</td>\n",
       "      <td>0.73</td>\n",
       "    </tr>\n",
       "    <tr>\n",
       "      <td>499</td>\n",
       "      <td>500</td>\n",
       "      <td>327</td>\n",
       "      <td>113</td>\n",
       "      <td>4</td>\n",
       "      <td>4.5</td>\n",
       "      <td>4.5</td>\n",
       "      <td>9.04</td>\n",
       "      <td>0</td>\n",
       "      <td>0.84</td>\n",
       "    </tr>\n",
       "  </tbody>\n",
       "</table>\n",
       "<p>500 rows × 9 columns</p>\n",
       "</div>"
      ],
      "text/plain": [
       "     Serial No.  GRE Score  TOEFL Score  University Rating  SOP  LOR   CGPA  \\\n",
       "0             1        337          118                  4  4.5   4.5  9.65   \n",
       "1             2        324          107                  4  4.0   4.5  8.87   \n",
       "2             3        316          104                  3  3.0   3.5  8.00   \n",
       "3             4        322          110                  3  3.5   2.5  8.67   \n",
       "4             5        314          103                  2  2.0   3.0  8.21   \n",
       "..          ...        ...          ...                ...  ...   ...   ...   \n",
       "495         496        332          108                  5  4.5   4.0  9.02   \n",
       "496         497        337          117                  5  5.0   5.0  9.87   \n",
       "497         498        330          120                  5  4.5   5.0  9.56   \n",
       "498         499        312          103                  4  4.0   5.0  8.43   \n",
       "499         500        327          113                  4  4.5   4.5  9.04   \n",
       "\n",
       "     Research  Chance of Admit   \n",
       "0           1              0.92  \n",
       "1           1              0.76  \n",
       "2           1              0.72  \n",
       "3           1              0.80  \n",
       "4           0              0.65  \n",
       "..        ...               ...  \n",
       "495         1              0.87  \n",
       "496         1              0.96  \n",
       "497         1              0.93  \n",
       "498         0              0.73  \n",
       "499         0              0.84  \n",
       "\n",
       "[500 rows x 9 columns]"
      ]
     },
     "execution_count": 2,
     "metadata": {},
     "output_type": "execute_result"
    }
   ],
   "source": [
    "data_file = \"../data/graduate_admission.csv\"\n",
    "data = pd.read_csv(data_file)\n",
    "data"
   ]
  },
  {
   "cell_type": "markdown",
   "metadata": {},
   "source": [
    "Serial No. will not be used as a feature."
   ]
  },
  {
   "cell_type": "code",
   "execution_count": 44,
   "metadata": {},
   "outputs": [],
   "source": [
    "# Separate the data into training and validation sets\n",
    "train_full = data.iloc[:400, :]\n",
    "test_full = data.iloc[400:500, :]\n",
    "\n",
    "# The last column, chance of admit, is how the accuracy of a model will be measured\n",
    "train_X = train_full.iloc[:, 1:8]\n",
    "train_y = train_full.iloc[:, 8]\n",
    "\n",
    "test_X = test_full.iloc[:, 1:8]\n",
    "test_y = test_full.iloc[:, 8]"
   ]
  },
  {
   "cell_type": "code",
   "execution_count": 55,
   "metadata": {},
   "outputs": [],
   "source": [
    "# Standardized version of data\n",
    "std_train_X = (train_X - train_X.mean()) / train_X.std()\n",
    "std_test_X = (test_X - test_X.mean()) / test_X.std()"
   ]
  },
  {
   "cell_type": "code",
   "execution_count": 47,
   "metadata": {},
   "outputs": [
    {
     "name": "stdout",
     "output_type": "stream",
     "text": [
      "Random training MSE = 0.0706195\n",
      "Random test MSE = 0.062769\n"
     ]
    }
   ],
   "source": [
    "# Baseline: a random predictor that assigns a probability of 0.5 to each data point\n",
    "rand_train_mse = mean_squared_error(train_y.values, np.full(400, 0.5))\n",
    "print(f\"Random training MSE = {rand_train_mse}\")\n",
    "rand_test_mse = mean_squared_error(test_y.values, np.full(100, 0.5))\n",
    "print(f\"Random test MSE = {rand_test_mse}\")"
   ]
  },
  {
   "cell_type": "code",
   "execution_count": 48,
   "metadata": {},
   "outputs": [],
   "source": [
    "# Threshold the admission probability to allow for classification via logistic regression\n",
    "bin_train_y = train_y >= 0.8\n",
    "bin_test_y = test_y >= 0.8"
   ]
  },
  {
   "cell_type": "code",
   "execution_count": 53,
   "metadata": {},
   "outputs": [
    {
     "name": "stdout",
     "output_type": "stream",
     "text": [
      "Logistic regression training MSE = 0.0752213477572983\n",
      "Logistic regression test MSE = 0.06584125159925515\n"
     ]
    }
   ],
   "source": [
    "# Model 1: Logistic Regression\n",
    "logreg = LogisticRegression(solver=\"liblinear\").fit(train_X, bin_train_y)\n",
    "\n",
    " # Training\n",
    "logreg_train_pred = logreg.predict_proba(train_X.iloc[:, :8])\n",
    "logreg_mse_train = mean_squared_error(bin_train_y.values, logreg_train_pred[:, 1])\n",
    "\n",
    "# Test\n",
    "logreg_test_pred = logreg.predict_proba(test_X.iloc[:, :8])\n",
    "logreg_mse_test = mean_squared_error(bin_test_y.values, logreg_test_pred[:, 1])\n",
    "\n",
    "print(f\"Logistic regression training MSE = {logreg_mse_train}\")\n",
    "print(f\"Logistic regression test MSE = {logreg_mse_test}\")"
   ]
  },
  {
   "cell_type": "code",
   "execution_count": 54,
   "metadata": {},
   "outputs": [
    {
     "name": "stdout",
     "output_type": "stream",
     "text": [
      "Linear regression training MSE = 0.003986893243246914\n",
      "Linear regression test MSE = 0.001843174437604737\n"
     ]
    }
   ],
   "source": [
    "# Model 2: Linear Regression\n",
    "linreg = LinearRegression().fit(train_X, train_y)\n",
    "\n",
    "# Training\n",
    "linreg_train_pred = linreg.predict(train_X)\n",
    "linreg_mse_train = mean_squared_error(train_y.values, linreg_train_pred)\n",
    "\n",
    "# Test\n",
    "linreg_test_pred = linreg.predict(test_X)\n",
    "linreg_mse_test = mean_squared_error(test_y.values, linreg_test_pred)\n",
    "\n",
    "print(f\"Linear regression training MSE = {linreg_mse_train}\")\n",
    "print(f\"Linear regression test MSE = {linreg_mse_test}\")"
   ]
  },
  {
   "cell_type": "code",
   "execution_count": 26,
   "metadata": {},
   "outputs": [
    {
     "data": {
      "text/plain": [
       "array([0.63343077, 0.68437615, 0.81184602, 0.8987142 , 0.61151514,\n",
       "       0.55455327, 0.68788483, 0.6499213 , 0.62243064, 0.57954208,\n",
       "       0.55810379, 0.58739962, 0.64520655, 0.64466331, 0.78023904,\n",
       "       0.8294011 , 0.65592801, 0.59916082, 0.68722836, 0.66074331,\n",
       "       0.55201948, 0.85383122, 0.82892113, 0.99392554, 0.95100936,\n",
       "       0.97864334, 0.7627216 , 0.77372283, 0.75743758, 0.92968493,\n",
       "       0.70003556, 0.80545242, 0.88757672, 0.79516911, 0.66122397,\n",
       "       0.63098933, 0.61946735, 0.65094773, 0.76144937, 0.69751974,\n",
       "       0.57864803, 0.79624571, 0.95042567, 0.90453206, 0.92660186,\n",
       "       0.92715275, 0.98626795, 0.8543698 , 0.7942855 , 0.80162006,\n",
       "       0.85596046, 0.90821327, 0.94198217, 0.79136687, 0.65984484,\n",
       "       0.57931628, 0.57586991, 0.51295516, 0.70524805, 0.90847896,\n",
       "       0.80901912, 0.6471653 , 0.65515293, 0.64012042, 0.51528618,\n",
       "       0.68489411, 0.78620808, 0.82574615, 0.8698346 , 0.88729763,\n",
       "       0.89307043, 0.68486577, 0.95217127, 0.67746043, 0.67352548,\n",
       "       0.60408057, 0.63688612, 0.66492489, 0.77603776, 0.86212162,\n",
       "       0.82200805, 0.76479813, 0.82668134, 0.65261488, 0.69070719,\n",
       "       0.71092983, 0.69519306, 0.87988201, 0.8207874 , 0.75145696,\n",
       "       0.71763045, 0.61676961, 0.65932109, 0.61466215, 0.67507149,\n",
       "       0.88500222, 1.03838614, 1.00430682, 0.75728826])"
      ]
     },
     "execution_count": 26,
     "metadata": {},
     "output_type": "execute_result"
    }
   ],
   "source": [
    "linreg_test_pred"
   ]
  },
  {
   "cell_type": "markdown",
   "metadata": {},
   "source": [
    "Note that linear regression gives some invalid probabilities (greater than 1).\n",
    "This could be interpreted as saying that the particular candidate has a 100% chance of\n",
    "being admitted."
   ]
  },
  {
   "cell_type": "code",
   "execution_count": 60,
   "metadata": {},
   "outputs": [
    {
     "name": "stdout",
     "output_type": "stream",
     "text": [
      "Standardized Linear regression training MSE = 3.940436523715328\n",
      "Standardized Linear regression test MSE = 3.886539845330111\n"
     ]
    }
   ],
   "source": [
    "# Model 3: Linear Regression with Standardization\n",
    "linreg_std = LinearRegression().fit(std_train_X, train_y)\n",
    "\n",
    "# Training\n",
    "linreg_std_train_pred = linreg.predict(std_train_X)\n",
    "linreg_std_mse_train = mean_squared_error(train_y.values, linreg_std_train_pred)\n",
    "\n",
    "# Test\n",
    "linreg_std_test_pred = linreg.predict(std_test_X)\n",
    "linreg_std_mse_test = mean_squared_error(test_y.values, linreg_std_test_pred)\n",
    "\n",
    "print(f\"Standardized Linear regression training MSE = {linreg_std_mse_train}\")\n",
    "print(f\"Standardized Linear regression test MSE = {linreg_std_mse_test}\")"
   ]
  },
  {
   "cell_type": "code",
   "execution_count": 61,
   "metadata": {},
   "outputs": [
    {
     "data": {
      "text/plain": [
       "array([-1.36519785, -1.33663024, -1.1671994 , -1.09418227, -1.4231102 ,\n",
       "       -1.50215263, -1.34748229, -1.33643848, -1.38696219, -1.4149839 ,\n",
       "       -1.47299948, -1.41274706, -1.38475132, -1.38025365, -1.25122595,\n",
       "       -1.16781683, -1.39174236, -1.48015193, -1.36933672, -1.34233982,\n",
       "       -1.50601627, -1.12975862, -1.15699057, -0.99777254, -1.01490691,\n",
       "       -0.94149198, -1.24464211, -1.18409734, -1.22582922, -1.10165595,\n",
       "       -1.31485132, -1.19055878, -1.08982442, -1.24579821, -1.36030182,\n",
       "       -1.43800375, -1.47141366, -1.40417194, -1.23838226, -1.30919549,\n",
       "       -1.47317959, -1.2199081 , -1.03445212, -1.08469199, -1.05502482,\n",
       "       -1.08666882, -0.98177232, -1.11893437, -1.1837155 , -1.15401913,\n",
       "       -1.14183599, -1.07276356, -1.02855017, -1.1792723 , -1.3885439 ,\n",
       "       -1.47686639, -1.44644163, -1.52179935, -1.25878796, -1.07135219,\n",
       "       -1.18653749, -1.34491659, -1.40313007, -1.42450059, -1.55209894,\n",
       "       -1.31480583, -1.17529518, -1.14832823, -1.13118176, -1.10896159,\n",
       "       -1.07525129, -1.35477053, -1.02580369, -1.36625941, -1.36199685,\n",
       "       -1.43522483, -1.39536998, -1.38136351, -1.22462166, -1.13948947,\n",
       "       -1.13601386, -1.25893355, -1.20430058, -1.41050815, -1.36716008,\n",
       "       -1.27644799, -1.33591437, -1.1493717 , -1.20256332, -1.27206053,\n",
       "       -1.29465839, -1.42115791, -1.36888234, -1.34926353, -1.28620781,\n",
       "       -1.12300811, -0.93799955, -0.9941953 , -1.27097566, -1.16176966])"
      ]
     },
     "execution_count": 61,
     "metadata": {},
     "output_type": "execute_result"
    }
   ],
   "source": [
    "linreg_std_test_pred"
   ]
  },
  {
   "cell_type": "markdown",
   "metadata": {},
   "source": [
    "It appears that standardizing the data has drastically worsened the accuracy of the predictions. In fact, these are not valid probabilities because they are negative."
   ]
  },
  {
   "cell_type": "code",
   "execution_count": null,
   "metadata": {},
   "outputs": [],
   "source": []
  }
 ],
 "metadata": {
  "kernelspec": {
   "display_name": "Python 3",
   "language": "python",
   "name": "python3"
  },
  "language_info": {
   "codemirror_mode": {
    "name": "ipython",
    "version": 3
   },
   "file_extension": ".py",
   "mimetype": "text/x-python",
   "name": "python",
   "nbconvert_exporter": "python",
   "pygments_lexer": "ipython3",
   "version": "3.7.4"
  }
 },
 "nbformat": 4,
 "nbformat_minor": 2
}
