{
 "cells": [
  {
   "cell_type": "code",
   "execution_count": 132,
   "metadata": {},
   "outputs": [],
   "source": [
    "\"\"\"\n",
    "Data source: \n",
    "Mohan S Acharya, Asfia Armaan, Aneeta S Antony : \n",
    "A Comparison of Regression Models for Prediction of Graduate Admissions, \n",
    "IEEE International Conference on Computational Intelligence in Data Science 2019\n",
    "\"\"\"\n",
    "import numpy as np\n",
    "import pandas as pd\n",
    "from sklearn import preprocessing\n",
    "from sklearn.decomposition import PCA\n",
    "\n",
    "from sklearn.linear_model import LinearRegression\n",
    "from sklearn.linear_model import BayesianRidge\n",
    "from sklearn.linear_model import SGDRegressor\n",
    "from sklearn.svm import SVR"
   ]
  },
  {
   "cell_type": "markdown",
   "metadata": {},
   "source": [
    "# Part 1: Visualizing the Data"
   ]
  },
  {
   "cell_type": "code",
   "execution_count": 112,
   "metadata": {},
   "outputs": [
    {
     "data": {
      "text/html": [
       "<div>\n",
       "<style scoped>\n",
       "    .dataframe tbody tr th:only-of-type {\n",
       "        vertical-align: middle;\n",
       "    }\n",
       "\n",
       "    .dataframe tbody tr th {\n",
       "        vertical-align: top;\n",
       "    }\n",
       "\n",
       "    .dataframe thead th {\n",
       "        text-align: right;\n",
       "    }\n",
       "</style>\n",
       "<table border=\"1\" class=\"dataframe\">\n",
       "  <thead>\n",
       "    <tr style=\"text-align: right;\">\n",
       "      <th></th>\n",
       "      <th>Serial No.</th>\n",
       "      <th>GRE Score</th>\n",
       "      <th>TOEFL Score</th>\n",
       "      <th>University Rating</th>\n",
       "      <th>SOP</th>\n",
       "      <th>LOR</th>\n",
       "      <th>CGPA</th>\n",
       "      <th>Research</th>\n",
       "      <th>Chance of Admit</th>\n",
       "    </tr>\n",
       "  </thead>\n",
       "  <tbody>\n",
       "    <tr>\n",
       "      <td>0</td>\n",
       "      <td>1</td>\n",
       "      <td>337</td>\n",
       "      <td>118</td>\n",
       "      <td>4</td>\n",
       "      <td>4.5</td>\n",
       "      <td>4.5</td>\n",
       "      <td>9.65</td>\n",
       "      <td>1</td>\n",
       "      <td>0.92</td>\n",
       "    </tr>\n",
       "    <tr>\n",
       "      <td>1</td>\n",
       "      <td>2</td>\n",
       "      <td>324</td>\n",
       "      <td>107</td>\n",
       "      <td>4</td>\n",
       "      <td>4.0</td>\n",
       "      <td>4.5</td>\n",
       "      <td>8.87</td>\n",
       "      <td>1</td>\n",
       "      <td>0.76</td>\n",
       "    </tr>\n",
       "    <tr>\n",
       "      <td>2</td>\n",
       "      <td>3</td>\n",
       "      <td>316</td>\n",
       "      <td>104</td>\n",
       "      <td>3</td>\n",
       "      <td>3.0</td>\n",
       "      <td>3.5</td>\n",
       "      <td>8.00</td>\n",
       "      <td>1</td>\n",
       "      <td>0.72</td>\n",
       "    </tr>\n",
       "    <tr>\n",
       "      <td>3</td>\n",
       "      <td>4</td>\n",
       "      <td>322</td>\n",
       "      <td>110</td>\n",
       "      <td>3</td>\n",
       "      <td>3.5</td>\n",
       "      <td>2.5</td>\n",
       "      <td>8.67</td>\n",
       "      <td>1</td>\n",
       "      <td>0.80</td>\n",
       "    </tr>\n",
       "    <tr>\n",
       "      <td>4</td>\n",
       "      <td>5</td>\n",
       "      <td>314</td>\n",
       "      <td>103</td>\n",
       "      <td>2</td>\n",
       "      <td>2.0</td>\n",
       "      <td>3.0</td>\n",
       "      <td>8.21</td>\n",
       "      <td>0</td>\n",
       "      <td>0.65</td>\n",
       "    </tr>\n",
       "    <tr>\n",
       "      <td>...</td>\n",
       "      <td>...</td>\n",
       "      <td>...</td>\n",
       "      <td>...</td>\n",
       "      <td>...</td>\n",
       "      <td>...</td>\n",
       "      <td>...</td>\n",
       "      <td>...</td>\n",
       "      <td>...</td>\n",
       "      <td>...</td>\n",
       "    </tr>\n",
       "    <tr>\n",
       "      <td>495</td>\n",
       "      <td>496</td>\n",
       "      <td>332</td>\n",
       "      <td>108</td>\n",
       "      <td>5</td>\n",
       "      <td>4.5</td>\n",
       "      <td>4.0</td>\n",
       "      <td>9.02</td>\n",
       "      <td>1</td>\n",
       "      <td>0.87</td>\n",
       "    </tr>\n",
       "    <tr>\n",
       "      <td>496</td>\n",
       "      <td>497</td>\n",
       "      <td>337</td>\n",
       "      <td>117</td>\n",
       "      <td>5</td>\n",
       "      <td>5.0</td>\n",
       "      <td>5.0</td>\n",
       "      <td>9.87</td>\n",
       "      <td>1</td>\n",
       "      <td>0.96</td>\n",
       "    </tr>\n",
       "    <tr>\n",
       "      <td>497</td>\n",
       "      <td>498</td>\n",
       "      <td>330</td>\n",
       "      <td>120</td>\n",
       "      <td>5</td>\n",
       "      <td>4.5</td>\n",
       "      <td>5.0</td>\n",
       "      <td>9.56</td>\n",
       "      <td>1</td>\n",
       "      <td>0.93</td>\n",
       "    </tr>\n",
       "    <tr>\n",
       "      <td>498</td>\n",
       "      <td>499</td>\n",
       "      <td>312</td>\n",
       "      <td>103</td>\n",
       "      <td>4</td>\n",
       "      <td>4.0</td>\n",
       "      <td>5.0</td>\n",
       "      <td>8.43</td>\n",
       "      <td>0</td>\n",
       "      <td>0.73</td>\n",
       "    </tr>\n",
       "    <tr>\n",
       "      <td>499</td>\n",
       "      <td>500</td>\n",
       "      <td>327</td>\n",
       "      <td>113</td>\n",
       "      <td>4</td>\n",
       "      <td>4.5</td>\n",
       "      <td>4.5</td>\n",
       "      <td>9.04</td>\n",
       "      <td>0</td>\n",
       "      <td>0.84</td>\n",
       "    </tr>\n",
       "  </tbody>\n",
       "</table>\n",
       "<p>500 rows × 9 columns</p>\n",
       "</div>"
      ],
      "text/plain": [
       "     Serial No.  GRE Score  TOEFL Score  University Rating  SOP  LOR   CGPA  \\\n",
       "0             1        337          118                  4  4.5   4.5  9.65   \n",
       "1             2        324          107                  4  4.0   4.5  8.87   \n",
       "2             3        316          104                  3  3.0   3.5  8.00   \n",
       "3             4        322          110                  3  3.5   2.5  8.67   \n",
       "4             5        314          103                  2  2.0   3.0  8.21   \n",
       "..          ...        ...          ...                ...  ...   ...   ...   \n",
       "495         496        332          108                  5  4.5   4.0  9.02   \n",
       "496         497        337          117                  5  5.0   5.0  9.87   \n",
       "497         498        330          120                  5  4.5   5.0  9.56   \n",
       "498         499        312          103                  4  4.0   5.0  8.43   \n",
       "499         500        327          113                  4  4.5   4.5  9.04   \n",
       "\n",
       "     Research  Chance of Admit   \n",
       "0           1              0.92  \n",
       "1           1              0.76  \n",
       "2           1              0.72  \n",
       "3           1              0.80  \n",
       "4           0              0.65  \n",
       "..        ...               ...  \n",
       "495         1              0.87  \n",
       "496         1              0.96  \n",
       "497         1              0.93  \n",
       "498         0              0.73  \n",
       "499         0              0.84  \n",
       "\n",
       "[500 rows x 9 columns]"
      ]
     },
     "execution_count": 112,
     "metadata": {},
     "output_type": "execute_result"
    }
   ],
   "source": [
    "data_file = \"../data/graduate_admission.csv\"\n",
    "data = pd.read_csv(data_file)\n",
    "# Column keys\n",
    "SER_KEY = \"Serial No.\"\n",
    "GRE_KEY = \"GRE Score\"\n",
    "TOEFL_KEY = \"TOEFL Score\"\n",
    "UNI_KEY = \"University Rating\"\n",
    "SOP_KEY = \"SOP\"\n",
    "LOR_KEY = \"LOR \" # Note the trailing space character\n",
    "CGPA_KEY = \"CGPA\"\n",
    "RES_KEY = \"Research\"\n",
    "CHANCE_ADMIT_KEY = \"Chance of Admit\"\n",
    "data"
   ]
  },
  {
   "cell_type": "markdown",
   "metadata": {},
   "source": [
    "# GRE Scores"
   ]
  },
  {
   "cell_type": "code",
   "execution_count": 113,
   "metadata": {},
   "outputs": [
    {
     "name": "stdout",
     "output_type": "stream",
     "text": [
      "Mean GRE score: 316.472\n",
      "Median GRE score: 317.0\n",
      "Min GRE score: 290\n",
      "Max GRE score: 340\n"
     ]
    },
    {
     "data": {
      "image/png": "[encoded data removed]",
      "text/plain": [
       "<Figure size 432x288 with 1 Axes>"
      ]
     },
     "metadata": {
      "needs_background": "light"
     },
     "output_type": "display_data"
    }
   ],
   "source": [
    "data.hist(column=GRE_KEY, bins=40)\n",
    "print(f\"Mean GRE score: {data[GRE_KEY].mean()}\")\n",
    "print(f\"Median GRE score: {data[GRE_KEY].median()}\")\n",
    "print(f\"Min GRE score: {data[GRE_KEY].min()}\")\n",
    "print(f\"Max GRE score: {data[GRE_KEY].max()}\")"
   ]
  },
  {
   "cell_type": "markdown",
   "metadata": {},
   "source": [
    "# TOEFL Scores"
   ]
  },
  {
   "cell_type": "code",
   "execution_count": 114,
   "metadata": {},
   "outputs": [
    {
     "name": "stdout",
     "output_type": "stream",
     "text": [
      "Mean TOEFL score: 107.192\n",
      "Median TOEFL score: 107.0\n",
      "Min TOEFL score: 92\n",
      "Max TOEFL score: 120\n"
     ]
    },
    {
     "data": {
      "image/png": "[encoded data removed]",
      "text/plain": [
       "<Figure size 432x288 with 1 Axes>"
      ]
     },
     "metadata": {
      "needs_background": "light"
     },
     "output_type": "display_data"
    }
   ],
   "source": [
    "data.hist(column=TOEFL_KEY, bins=20)\n",
    "print(f\"Mean TOEFL score: {data[TOEFL_KEY].mean()}\")\n",
    "print(f\"Median TOEFL score: {data[TOEFL_KEY].median()}\")\n",
    "print(f\"Min TOEFL score: {data[TOEFL_KEY].min()}\")\n",
    "print(f\"Max TOEFL score: {data[TOEFL_KEY].max()}\")"
   ]
  },
  {
   "cell_type": "markdown",
   "metadata": {},
   "source": [
    "# University Ratings"
   ]
  },
  {
   "cell_type": "code",
   "execution_count": 115,
   "metadata": {},
   "outputs": [
    {
     "name": "stdout",
     "output_type": "stream",
     "text": [
      "Mean University rating: 3.114\n",
      "Median University rating: 3.0\n",
      "Min University rating: 1\n",
      "Max University rating: 5\n"
     ]
    },
    {
     "data": {
      "image/png": "[encoded data removed]",
      "text/plain": [
       "<Figure size 432x288 with 1 Axes>"
      ]
     },
     "metadata": {
      "needs_background": "light"
     },
     "output_type": "display_data"
    }
   ],
   "source": [
    "data.hist(column=UNI_KEY, bins=5)\n",
    "print(f\"Mean University rating: {data[UNI_KEY].mean()}\")\n",
    "print(f\"Median University rating: {data[UNI_KEY].median()}\")\n",
    "print(f\"Min University rating: {data[UNI_KEY].min()}\")\n",
    "print(f\"Max University rating: {data[UNI_KEY].max()}\")"
   ]
  },
  {
   "cell_type": "markdown",
   "metadata": {},
   "source": [
    "# SOP"
   ]
  },
  {
   "cell_type": "code",
   "execution_count": 116,
   "metadata": {},
   "outputs": [
    {
     "name": "stdout",
     "output_type": "stream",
     "text": [
      "Mean SOP: 3.374\n",
      "Median SOP: 3.5\n",
      "Min SOP: 1.0\n",
      "Max SOP: 5.0\n"
     ]
    },
    {
     "data": {
      "image/png": "[encoded data removed]",
      "text/plain": [
       "<Figure size 432x288 with 1 Axes>"
      ]
     },
     "metadata": {
      "needs_background": "light"
     },
     "output_type": "display_data"
    }
   ],
   "source": [
    "data.hist(column=SOP_KEY, bins=10)\n",
    "print(f\"Mean SOP: {data[SOP_KEY].mean()}\")\n",
    "print(f\"Median SOP: {data[SOP_KEY].median()}\")\n",
    "print(f\"Min SOP: {data[SOP_KEY].min()}\")\n",
    "print(f\"Max SOP: {data[SOP_KEY].max()}\")"
   ]
  },
  {
   "cell_type": "markdown",
   "metadata": {},
   "source": [
    "# LOR"
   ]
  },
  {
   "cell_type": "code",
   "execution_count": 117,
   "metadata": {},
   "outputs": [
    {
     "name": "stdout",
     "output_type": "stream",
     "text": [
      "Mean LOR: 3.484\n",
      "Median LOR: 3.5\n",
      "Min LOR: 1.0\n",
      "Max LOR: 5.0\n"
     ]
    },
    {
     "data": {
      "image/png": "[encoded data removed]",
      "text/plain": [
       "<Figure size 432x288 with 1 Axes>"
      ]
     },
     "metadata": {
      "needs_background": "light"
     },
     "output_type": "display_data"
    }
   ],
   "source": [
    "data.hist(column=LOR_KEY, bins=10)\n",
    "print(f\"Mean LOR: {data[LOR_KEY].mean()}\")\n",
    "print(f\"Median LOR: {data[LOR_KEY].median()}\")\n",
    "print(f\"Min LOR: {data[LOR_KEY].min()}\")\n",
    "print(f\"Max LOR: {data[LOR_KEY].max()}\")"
   ]
  },
  {
   "cell_type": "markdown",
   "metadata": {},
   "source": [
    "# CGPA"
   ]
  },
  {
   "cell_type": "code",
   "execution_count": 118,
   "metadata": {},
   "outputs": [
    {
     "name": "stdout",
     "output_type": "stream",
     "text": [
      "Mean CGPA: 8.576440000000003\n",
      "Median CGPA: 8.56\n",
      "Min CGPA: 6.8\n",
      "Max CGPA: 9.92\n"
     ]
    },
    {
     "data": {
      "image/png": "[encoded data removed]",
      "text/plain": [
       "<Figure size 432x288 with 1 Axes>"
      ]
     },
     "metadata": {
      "needs_background": "light"
     },
     "output_type": "display_data"
    }
   ],
   "source": [
    "data.hist(column=CGPA_KEY, bins=10)\n",
    "print(f\"Mean CGPA: {data[CGPA_KEY].mean()}\")\n",
    "print(f\"Median CGPA: {data[CGPA_KEY].median()}\")\n",
    "print(f\"Min CGPA: {data[CGPA_KEY].min()}\")\n",
    "print(f\"Max CGPA: {data[CGPA_KEY].max()}\")"
   ]
  },
  {
   "cell_type": "markdown",
   "metadata": {},
   "source": [
    "# Analysis\n",
    "All of the features seem to be normally distributed."
   ]
  },
  {
   "cell_type": "markdown",
   "metadata": {},
   "source": [
    "# Part 2: Predictive Models"
   ]
  },
  {
   "cell_type": "markdown",
   "metadata": {},
   "source": [
    "## Data Preprocessing"
   ]
  },
  {
   "cell_type": "code",
   "execution_count": 151,
   "metadata": {},
   "outputs": [],
   "source": [
    "# Separate the data into training and validation sets\n",
    "train_full = data.iloc[:400, :]\n",
    "test_full = data.iloc[400:500, :]\n",
    "\n",
    "# The last column, chance of admit, is how the accuracy of a model will be measured\n",
    "train_X = train_full.iloc[:, 1:8]\n",
    "train_y = train_full.iloc[:, 8]\n",
    "\n",
    "test_X = test_full.iloc[:, 1:8]\n",
    "test_y = test_full.iloc[:, 8]"
   ]
  },
  {
   "cell_type": "code",
   "execution_count": 121,
   "metadata": {},
   "outputs": [],
   "source": [
    "# Standardized version of data\n",
    "std_train_X = (train_X - train_X.mean()) / train_X.std()\n",
    "std_test_X = (test_X - test_X.mean()) / test_X.std()"
   ]
  },
  {
   "cell_type": "code",
   "execution_count": 156,
   "metadata": {},
   "outputs": [
    {
     "data": {
      "text/plain": [
       "array([0.93475206, 0.05385856, 0.00667412, 0.00203262, 0.00136517])"
      ]
     },
     "execution_count": 156,
     "metadata": {},
     "output_type": "execute_result"
    }
   ],
   "source": [
    "# Dimensionality reduction\n",
    "pca = PCA(n_components=5)\n",
    "pca.fit_transform(train_X)\n",
    "pca.explained_variance_ratio_\n"
   ]
  },
  {
   "cell_type": "code",
   "execution_count": 158,
   "metadata": {},
   "outputs": [
    {
     "data": {
      "text/plain": [
       "array([[0.89819828, 0.4275918 , 0.06292448, 0.05114292, 0.04108918,\n",
       "        0.04030481, 0.02274241],\n",
       "       [0.43691217, 0.89218293, 0.07214279, 0.07189561, 0.0420899 ,\n",
       "        0.02984636, 0.00902454],\n",
       "       [0.03835209, 0.14153134, 0.5914209 , 0.57456691, 0.52664488,\n",
       "        0.13181441, 0.06214754],\n",
       "       [0.00412821, 0.01462852, 0.78376371, 0.31296638, 0.53517441,\n",
       "        0.0176306 , 0.0285128 ],\n",
       "       [0.00344895, 0.01365111, 0.14594928, 0.74022474, 0.64987981,\n",
       "        0.02934337, 0.08580841]])"
      ]
     },
     "execution_count": 158,
     "metadata": {},
     "output_type": "execute_result"
    }
   ],
   "source": [
    "abs(pca.components_)"
   ]
  },
  {
   "cell_type": "code",
   "execution_count": 133,
   "metadata": {},
   "outputs": [],
   "source": [
    "def run_classifiers(classifiers, train_X, train_y, test_X, test_y):\n",
    "    \"\"\"\n",
    "    Fits each classifier to the training data and runs it on the test data.\n",
    "    Prints out the training and test mean squared errors. \n",
    "    \"\"\"\n",
    "    # Baseline: a random predictor that assigns a probability of 0.5 to each data point\n",
    "    rand_train_mse = mean_squared_error(train_y.values, np.full(400, 0.5))\n",
    "    rand_test_mse = mean_squared_error(test_y.values, np.full(100, 0.5))\n",
    "    print(f\"Random training MSE = {rand_train_mse}\")\n",
    "    print(f\"Random test MSE = {rand_test_mse}\")\n",
    "    print()\n",
    "    \n",
    "    for clf in classifiers:\n",
    "        print(f\"Classifier: {clf}\")\n",
    "        clf.fit(train_X, train_y)\n",
    "        train_mse = mean_squared_error(train_y.values, clf.predict(train_X))\n",
    "        test_mse = mean_squared_error(test_y.values, clf.predict(test_X))\n",
    "\n",
    "        print(f\"Training MSE = {train_mse}\")\n",
    "        print(f\"Validation MSE = {test_mse}\")\n",
    "        print()\n"
   ]
  },
  {
   "cell_type": "code",
   "execution_count": 134,
   "metadata": {},
   "outputs": [
    {
     "name": "stdout",
     "output_type": "stream",
     "text": [
      "Random training MSE = 0.0706195\n",
      "Random test MSE = 0.062769\n",
      "\n",
      "Classifier: LinearRegression(copy_X=True, fit_intercept=True, n_jobs=None, normalize=False)\n",
      "Training MSE = 0.003986893243246914\n",
      "Validation MSE = 0.001843174437604737\n",
      "\n",
      "Classifier: BayesianRidge(alpha_1=1e-06, alpha_2=1e-06, compute_score=False, copy_X=True,\n",
      "              fit_intercept=True, lambda_1=1e-06, lambda_2=1e-06, n_iter=300,\n",
      "              normalize=False, tol=0.001, verbose=False)\n",
      "Training MSE = 0.00399161762002594\n",
      "Validation MSE = 0.0018401359095189074\n",
      "\n",
      "Classifier: SGDRegressor(alpha=0.0001, average=False, early_stopping=False, epsilon=0.1,\n",
      "             eta0=0.01, fit_intercept=True, l1_ratio=0.15,\n",
      "             learning_rate='invscaling', loss='squared_loss', max_iter=1000,\n",
      "             n_iter_no_change=5, penalty='l2', power_t=0.25, random_state=None,\n",
      "             shuffle=True, tol=0.001, validation_fraction=0.1, verbose=0,\n",
      "             warm_start=False)\n",
      "Training MSE = 2.2438244857432852e+27\n",
      "Validation MSE = 2.2009127661311747e+27\n",
      "\n",
      "Classifier: SVR(C=1.0, cache_size=200, coef0=0.0, degree=3, epsilon=0.1, gamma='scale',\n",
      "    kernel='rbf', max_iter=-1, shrinking=True, tol=0.001, verbose=False)\n",
      "Training MSE = 0.00698123868861436\n",
      "Validation MSE = 0.00537288641133361\n",
      "\n"
     ]
    }
   ],
   "source": [
    "classifiers = [\n",
    "    LinearRegression(),\n",
    "    BayesianRidge(),\n",
    "    SGDRegressor(),\n",
    "    SVR(gamma=\"scale\")\n",
    "]\n",
    "run_classifiers(classifiers, train_X, train_y, test_X, test_y)"
   ]
  }
 ],
 "metadata": {
  "kernelspec": {
   "display_name": "Python 3",
   "language": "python",
   "name": "python3"
  },
  "language_info": {
   "codemirror_mode": {
    "name": "ipython",
    "version": 3
   },
   "file_extension": ".py",
   "mimetype": "text/x-python",
   "name": "python",
   "nbconvert_exporter": "python",
   "pygments_lexer": "ipython3",
   "version": "3.7.4"
  }
 },
 "nbformat": 4,
 "nbformat_minor": 2
}
